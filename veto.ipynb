{
 "cells": [
  {
   "cell_type": "code",
   "execution_count": 57,
   "id": "eb2eada2-6d15-4dad-966d-bd91458823e5",
   "metadata": {},
   "outputs": [],
   "source": [
    "from pygama.dsp.build_dsp import build_dsp\n",
    "from pygama.raw.build_raw import build_raw\n",
    "from pygama.lgdo.lh5_store import LH5Store\n",
    "from pygama.lgdo.lh5_store import *\n",
    "import pandas as pd\n",
    "import h5py\n",
    "import matplotlib.pyplot as plt\n",
    "import pygama\n",
    "import numpy as np\n",
    "from scipy.optimize import curve_fit\n",
    "import matplotlib as mpl\n",
    "from mpl_toolkits.mplot3d import Axes3D\n",
    "from scipy.signal import find_peaks\n",
    "from itertools import permutations\n",
    "from scipy.optimize import minimize\n",
    "import ROOT \n",
    "from ROOT import TF1\n",
    "from ROOT import gROOT"
   ]
  },
  {
   "cell_type": "code",
   "execution_count": 58,
   "id": "6c8b0dd2-8c4b-441a-a76d-4d2bfd61dd60",
   "metadata": {},
   "outputs": [],
   "source": [
    "raw_file = \"/global/project/projectdirs/legend/users/habib/maj3_maj3_maj3_60ns_24hr.lh5\"\n",
    "dsp_file = \"/global/project/projectdirs/legend/users/habib/maj3_maj3_maj3_60ns_24hr.lh5\"\n",
    "dsp_config = \"/global/u2/k/khushi/config_files/muon_veto_config.json\""
   ]
  },
  {
   "cell_type": "code",
   "execution_count": null,
   "id": "943d90dd-5011-459e-a399-8d33f012136b",
   "metadata": {},
   "outputs": [],
   "source": [
    "build_dsp(raw_file, dsp_file, dsp_config, lh5_tables=['FCEvent'],write_mode = 'r')"
   ]
  },
  {
   "cell_type": "code",
   "execution_count": 4,
   "id": "8ac8f807-9291-4bef-913d-bb1d9703e1b3",
   "metadata": {},
   "outputs": [],
   "source": [
    "lh5_st = LH5Store()"
   ]
  },
  {
   "cell_type": "code",
   "execution_count": null,
   "id": "ab9b693c-dc2d-40fe-bfb2-364f4bdf90f5",
   "metadata": {},
   "outputs": [],
   "source": [
    "print()\n",
    "print(\"Data from file:\")\n",
    "\n",
    "raw_df = load_dfs(dsp_file,\n",
    "                  par_list = ['channel','bl_mean','bl_sig','timestamp','eventnumber','trigger_heights', 'trigger'],\n",
    "                  lh5_group = 'FCEvent/')\n",
    "print(raw_df)"
   ]
  },
  {
   "cell_type": "code",
   "execution_count": null,
   "id": "93399bc7-172f-438b-aa82-65ad57b0c43b",
   "metadata": {},
   "outputs": [],
   "source": []
  },
  {
   "cell_type": "code",
   "execution_count": null,
   "id": "a18d44b8-de7f-4960-96be-a5c4311709b7",
   "metadata": {},
   "outputs": [],
   "source": []
  },
  {
   "cell_type": "code",
   "execution_count": null,
   "id": "6ace9a71-b08b-44a7-8656-01dc20e22c57",
   "metadata": {},
   "outputs": [],
   "source": []
  },
  {
   "cell_type": "code",
   "execution_count": null,
   "id": "d85bc84a-4915-43d6-952c-9895edf86dde",
   "metadata": {},
   "outputs": [],
   "source": []
  }
 ],
 "metadata": {
  "kernelspec": {
   "display_name": "My_Kernel",
   "language": "python",
   "name": "mynewkernel"
  },
  "language_info": {
   "codemirror_mode": {
    "name": "ipython",
    "version": 3
   },
   "file_extension": ".py",
   "mimetype": "text/x-python",
   "name": "python",
   "nbconvert_exporter": "python",
   "pygments_lexer": "ipython3",
   "version": "3.9.12"
  }
 },
 "nbformat": 4,
 "nbformat_minor": 5
}
